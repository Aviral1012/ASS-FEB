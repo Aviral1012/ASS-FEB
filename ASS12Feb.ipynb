{
 "cells": [
  {
   "cell_type": "code",
   "execution_count": null,
   "id": "c676f024-a129-49a3-8e2a-68165c2e33f7",
   "metadata": {},
   "outputs": [],
   "source": [
    "     #QUESTION-1"
   ]
  },
  {
   "cell_type": "code",
   "execution_count": null,
   "id": "818d343a-97db-4362-9764-c8e30f6182e5",
   "metadata": {},
   "outputs": [],
   "source": [
    "Q1. What is an Exception in python? Write the difference between Exceptions and syntax error?\n"
   ]
  },
  {
   "cell_type": "code",
   "execution_count": null,
   "id": "1f357531-cf0c-49d4-96f3-0dc4d7d618d4",
   "metadata": {},
   "outputs": [],
   "source": [
    "Exception in python is used to handle the error in python.The main difference in \n",
    "between Syntax error and exceptions is syntax error occur when program is syntactically\n",
    "wrong and exxception occur when the code is may be syntactically correct."
   ]
  },
  {
   "cell_type": "code",
   "execution_count": null,
   "id": "4c5732e7-c1a9-447b-b3ce-d467e1e955d0",
   "metadata": {},
   "outputs": [],
   "source": [
    "    #QUESTION-2"
   ]
  },
  {
   "cell_type": "code",
   "execution_count": null,
   "id": "87a69c41-11c8-4c57-90d1-77c4b9cb385f",
   "metadata": {},
   "outputs": [],
   "source": [
    "Q2. What happens when an exception is not handled? Explain with an exmaple?"
   ]
  },
  {
   "cell_type": "code",
   "execution_count": null,
   "id": "9e29d77d-0eb9-4ae8-ac02-bde4c88fd120",
   "metadata": {},
   "outputs": [],
   "source": [
    "If Exception is not handled then the program will be crashed and if exception is not handle then \n",
    "we will not got the possible result"
   ]
  },
  {
   "cell_type": "code",
   "execution_count": 3,
   "id": "fc245ae3-703f-4a0f-ae70-b0dcf1e4a0e8",
   "metadata": {},
   "outputs": [
    {
     "name": "stdin",
     "output_type": "stream",
     "text": [
      "enter the no= 0\n"
     ]
    },
    {
     "ename": "ZeroDivisionError",
     "evalue": "division by zero",
     "output_type": "error",
     "traceback": [
      "\u001b[0;31m---------------------------------------------------------------------------\u001b[0m",
      "\u001b[0;31mZeroDivisionError\u001b[0m                         Traceback (most recent call last)",
      "Cell \u001b[0;32mIn [3], line 3\u001b[0m\n\u001b[1;32m      1\u001b[0m \u001b[38;5;66;03m#EXAMPLE\u001b[39;00m\n\u001b[1;32m      2\u001b[0m a\u001b[38;5;241m=\u001b[39m\u001b[38;5;28mint\u001b[39m(\u001b[38;5;28minput\u001b[39m(\u001b[38;5;124m\"\u001b[39m\u001b[38;5;124menter the no=\u001b[39m\u001b[38;5;124m\"\u001b[39m))\n\u001b[0;32m----> 3\u001b[0m j\u001b[38;5;241m=\u001b[39m\u001b[38;5;241;43m5\u001b[39;49m\u001b[38;5;241;43m/\u001b[39;49m\u001b[43ma\u001b[49m\n\u001b[1;32m      4\u001b[0m \u001b[38;5;28mprint\u001b[39m(j)\n",
      "\u001b[0;31mZeroDivisionError\u001b[0m: division by zero"
     ]
    }
   ],
   "source": [
    "#EXAMPLE\n",
    "a=int(input(\"enter the no=\"))\n",
    "j=5/a\n",
    "print(j)"
   ]
  },
  {
   "cell_type": "code",
   "execution_count": null,
   "id": "2d30850e-eeb0-404c-8311-1640cc9404e3",
   "metadata": {},
   "outputs": [],
   "source": [
    "      #QUESTION-3"
   ]
  },
  {
   "cell_type": "code",
   "execution_count": null,
   "id": "89fd6f69-79df-4292-a5d6-0cc5eef02c45",
   "metadata": {},
   "outputs": [],
   "source": [
    "Q3. Which Python statements are used to catch and handle exceptions? Expin with an example?"
   ]
  },
  {
   "cell_type": "code",
   "execution_count": null,
   "id": "852630e7-a16e-4167-a06c-e4fb4f606725",
   "metadata": {},
   "outputs": [],
   "source": [
    "Try statement is used for catch and handle the Exception the handle"
   ]
  },
  {
   "cell_type": "code",
   "execution_count": 4,
   "id": "789c4223-1c2c-48c6-bf27-b83a40d979f9",
   "metadata": {},
   "outputs": [
    {
     "name": "stdout",
     "output_type": "stream",
     "text": [
      "this is wrong\n"
     ]
    }
   ],
   "source": [
    "try:\n",
    "    a=5/0\n",
    "    print(\"this is true\")\n",
    "except:\n",
    "    print(\"this is wrong\")"
   ]
  },
  {
   "cell_type": "code",
   "execution_count": null,
   "id": "dd69b8b9-51d6-4cab-8f7f-e0ebb116a266",
   "metadata": {},
   "outputs": [],
   "source": [
    "       #QUESTION-4"
   ]
  },
  {
   "cell_type": "code",
   "execution_count": null,
   "id": "d1db5e86-c834-46ab-b1da-cc10a31fa3ee",
   "metadata": {},
   "outputs": [],
   "source": [
    "Q4. Explain with an example:\n",
    "    a.try and else\n",
    "    b.finally\n",
    "    c.raise"
   ]
  },
  {
   "cell_type": "code",
   "execution_count": 7,
   "id": "5d7b2960-8909-488f-b4ca-605330e233c1",
   "metadata": {},
   "outputs": [
    {
     "name": "stdin",
     "output_type": "stream",
     "text": [
      "enter the value 0\n"
     ]
    },
    {
     "name": "stdout",
     "output_type": "stream",
     "text": [
      "this is error division by zero\n",
      "this is always print\n"
     ]
    },
    {
     "ename": "Exception",
     "evalue": "this is not correct",
     "output_type": "error",
     "traceback": [
      "\u001b[0;31m---------------------------------------------------------------------------\u001b[0m",
      "\u001b[0;31mException\u001b[0m                                 Traceback (most recent call last)",
      "Cell \u001b[0;32mIn [7], line 11\u001b[0m\n\u001b[1;32m      9\u001b[0m \u001b[38;5;28mprint\u001b[39m(\u001b[38;5;124m\"\u001b[39m\u001b[38;5;124mthis is always print\u001b[39m\u001b[38;5;124m\"\u001b[39m)\n\u001b[1;32m     10\u001b[0m \u001b[38;5;28;01mif\u001b[39;00m a\u001b[38;5;241m<\u001b[39m\u001b[38;5;241m=\u001b[39m\u001b[38;5;241m0\u001b[39m:\n\u001b[0;32m---> 11\u001b[0m     \u001b[38;5;28;01mraise\u001b[39;00m \u001b[38;5;167;01mException\u001b[39;00m(\u001b[38;5;124m\"\u001b[39m\u001b[38;5;124mthis is not correct\u001b[39m\u001b[38;5;124m\"\u001b[39m)\n",
      "\u001b[0;31mException\u001b[0m: this is not correct"
     ]
    }
   ],
   "source": [
    "try:\n",
    "    a=int(input(\"enter the value\"))\n",
    "    c=5/a\n",
    "except Exception as e:\n",
    "    print(\"this is error\",e)\n",
    "else:\n",
    "    print(\"entered value is correct\")\n",
    "finally:\n",
    "    print(\"this is always print\")\n",
    "    if a<=0:\n",
    "        raise Exception(\"this is not correct\")"
   ]
  },
  {
   "cell_type": "code",
   "execution_count": null,
   "id": "2ca757f2-c4e1-4027-9f5f-947fffde8a21",
   "metadata": {},
   "outputs": [],
   "source": [
    "     #QUESTION-5"
   ]
  },
  {
   "cell_type": "code",
   "execution_count": null,
   "id": "764b81c2-bb70-4e1f-8ec0-65d4cc1dc8f4",
   "metadata": {},
   "outputs": [],
   "source": [
    "Q5. What are Custom Exceptions in python? Why do we need Custom Exceptions? Explin with an example"
   ]
  },
  {
   "cell_type": "code",
   "execution_count": null,
   "id": "dfc9455b-b5da-4626-b387-28c3c632bcff",
   "metadata": {},
   "outputs": [],
   "source": [
    "Custom Exception in python is way by which is  user define Exception and  need of custom Exception is To provide custom messages/instructions to users for specific use cases."
   ]
  },
  {
   "cell_type": "code",
   "execution_count": 13,
   "id": "54d85b45-9e58-4042-8c50-9254a80c4d42",
   "metadata": {},
   "outputs": [
    {
     "name": "stdin",
     "output_type": "stream",
     "text": [
      "Enter the string aviral\n"
     ]
    },
    {
     "name": "stdout",
     "output_type": "stream",
     "text": [
      "correct string\n"
     ]
    }
   ],
   "source": [
    "#Example-\n",
    "def len_cal(length):\n",
    "    if len(s)<=5:\n",
    "        raise Exception(\"this is wrong\")\n",
    "    elif len(s)>10:\n",
    "        raise Exception(\"this is to long\")\n",
    "    else:\n",
    "        print(\"correct string\")\n",
    "try:\n",
    "    s=input(\"Enter the string\")\n",
    "    len_cal(s)\n",
    "except Exception as e:\n",
    "    print(e)\n"
   ]
  },
  {
   "cell_type": "code",
   "execution_count": null,
   "id": "f604b2c0-9d92-4586-8672-9d1b0acc6fbe",
   "metadata": {},
   "outputs": [],
   "source": [
    "     #QUESTION-6"
   ]
  },
  {
   "cell_type": "code",
   "execution_count": null,
   "id": "60c55744-259e-4840-a682-e0675247ccbd",
   "metadata": {},
   "outputs": [],
   "source": [
    "Q6. Create a custom exception class. Use this class to handle an exception?"
   ]
  },
  {
   "cell_type": "code",
   "execution_count": null,
   "id": "e89f6957-3318-4068-9dd1-64c844d3c7f7",
   "metadata": {},
   "outputs": [
    {
     "name": "stdin",
     "output_type": "stream",
     "text": [
      "Enter the string avi\n"
     ]
    },
    {
     "name": "stdout",
     "output_type": "stream",
     "text": [
      "this is wrong\n"
     ]
    }
   ],
   "source": [
    "class validatelen(Exception):\n",
    "    def __init__(self,msg):\n",
    "        self.msg=msg\n",
    "def len_cal(length):\n",
    "    if len(s)<=5:\n",
    "        raise validatelen(\"this is wrong\")\n",
    "    elif len(s)>10:\n",
    "        raise validatelen(\"this is to long\")\n",
    "    else:\n",
    "        print(\"correct string\")\n",
    "try:\n",
    "    s=input(\"Enter the string\")\n",
    "    len_cal(s)\n",
    "except validatelen as e:\n",
    "    print(e)        "
   ]
  }
 ],
 "metadata": {
  "kernelspec": {
   "display_name": "Python 3 (ipykernel)",
   "language": "python",
   "name": "python3"
  },
  "language_info": {
   "codemirror_mode": {
    "name": "ipython",
    "version": 3
   },
   "file_extension": ".py",
   "mimetype": "text/x-python",
   "name": "python",
   "nbconvert_exporter": "python",
   "pygments_lexer": "ipython3",
   "version": "3.10.6"
  }
 },
 "nbformat": 4,
 "nbformat_minor": 5
}
